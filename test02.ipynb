{
 "cells": [
  {
   "cell_type": "code",
   "execution_count": 1,
   "id": "a4348d9b",
   "metadata": {},
   "outputs": [],
   "source": [
    "import requests\n",
    "import datetime\n",
    "from bs4 import BeautifulSoup\n",
    "\n",
    "def print_whichday(year, month, day) :\n",
    "    r = ['월요일', '화요일', '수요일', '목요일', '금요일', '토요일', '일요일']\n",
    "    aday = datetime.date(year, month, day)\n",
    "    bday = aday.weekday()\n",
    "    return r[bday]\n",
    "\n",
    "def get_request_query(url, operation, params, serviceKey):\n",
    "    import urllib.parse as urlparse\n",
    "    params = urlparse.urlencode(params)\n",
    "    request_query = url + '/' + operation + '?' + params + '&' + 'serviceKey' + '=' + serviceKey\n",
    "    return request_query\n",
    "\n",
    "year = 2020\n",
    "mykey = \"WoMViKPOmQYKGqkJxxxxxxxxxxxxxxxxxxxxxxxxxxxxxxxxxxxxxxxxxxx\"\n",
    "\n",
    "for month in range(1,13):\n",
    "\n",
    "    if month < 10:\n",
    "        month = '0' + str(month)\n",
    "    else:\n",
    "        month = str(month)\n",
    "    \n",
    "    url = 'http://apis.data.go.kr/B090041/openapi/service/SpcdeInfoService'\n",
    "    operation = 'getRestDeInfo'\n",
    "    params = {'solYear':year, 'solMonth':month}\n",
    "\n",
    "    request_query = get_request_query(url, operation, params, mykey)\n",
    "    get_data = requests.get(request_query)    \n",
    "\n",
    "    if True == get_data.ok:\n",
    "        soup = BeautifulSoup(get_data.content, 'html.parser')        \n",
    "        \n",
    "        item = soup.findAll('item')\n",
    "        #print(item);\n",
    "        for i in item:\n",
    "            \n",
    "            day = int(i.locdate.string[-2:])\n",
    "            weekname = print_whichday(int(year), int(month), day)\n",
    "            print(i.datename.string, i.isholiday.string, i.locdate.string, weekname)                \n"
   ]
  },
  {
   "cell_type": "code",
   "execution_count": null,
   "id": "773e63dd",
   "metadata": {},
   "outputs": [],
   "source": []
  }
 ],
 "metadata": {
  "kernelspec": {
   "display_name": "Python 3",
   "language": "python",
   "name": "python3"
  },
  "language_info": {
   "codemirror_mode": {
    "name": "ipython",
    "version": 3
   },
   "file_extension": ".py",
   "mimetype": "text/x-python",
   "name": "python",
   "nbconvert_exporter": "python",
   "pygments_lexer": "ipython3",
   "version": "3.8.8"
  }
 },
 "nbformat": 4,
 "nbformat_minor": 5
}
