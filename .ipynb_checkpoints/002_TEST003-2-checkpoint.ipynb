{
 "cells": [
  {
   "cell_type": "code",
   "execution_count": null,
   "id": "13e7a582",
   "metadata": {
    "id": "13e7a582",
    "scrolled": true
   },
   "outputs": [],
   "source": [
    "import matplotlib as mpl\n",
    "import matplotlib.colors as mcl\n",
    "import matplotlib.pyplot as plt\n",
    "import numpy as np\n",
    "import pandas as pd\n",
    "import plotly.graph_objects as go\n",
    "import datetime\n",
    "from datetime import date\n",
    "import holidays\n",
    "import warnings\n",
    "\n",
    "mpl.rcParams['axes.unicode_minus'] = False\n",
    "plt.rc('font', family='Malgun Gothic')\n",
    "warnings.filterwarnings('ignore')\n",
    "\n",
    "# df : DataFrame\n",
    "# df.index : datetime64 type\n",
    "# start, end : str('YYYY-MM-DD')\n",
    "def slicing(df, start, end):\n",
    "    dateRange = pd.date_range(start, end)\n",
    "    return df[df['date'].isin(dateRange)]\n",
    "\n",
    "# df_covid 전처리 (2019-01-01 ~ 2021-07-31)\n",
    "df_covid = pd.read_csv('./DATA/002_2.COVID-19.csv')\n",
    "df_covid['DATE']= df_covid['DATE'].astype('str')\n",
    "df_covid['DATE'] = pd.to_datetime(df_covid['DATE'])\n",
    "df_covid.rename(columns= {'ID' : 'COUNT'}, inplace=True)\n",
    "df_covid = df_covid.groupby(['DATE']).count()\n",
    "df_covid.insert(0, 'date', df_covid.index)\n",
    "df_covid = df_covid[{'date', 'COUNT'}]\n",
    "\n",
    "#df_subway 전처리 (2019-01-01 ~ 2021-07-31)\n",
    "df_subway = pd.read_csv('./DATA/002_1.DAILY_SUBWAY_INFO.csv')\n",
    "df_subway['date']= df_subway['date'].astype('str')\n",
    "df_subway['date'] = pd.to_datetime(df_subway['date'])\n",
    "df_subway = df_subway.drop(['on_num', 'off_num'], axis=1)\n",
    "\n",
    "# df에 df_subway, df_covid 합치기\n",
    "df = pd.merge(df_subway, df_covid, how='outer', on='date')\n",
    "df = df.fillna(0)\n",
    "df['COUNT'] = df['COUNT'].astype('Int64')\n",
    "df['total'] = df['total'].astype('Int64')\n",
    "\n",
    "# df_subway_kor 전처리\n",
    "df_subway_kor = pd.read_csv('./DATA/002_3.COVID-19_IN_KOREA.csv', thousands = ',')\n",
    "df_subway_kor = df_subway_kor.iloc[1:].loc[:, ['date', 'total']]\n",
    "df_subway_kor['date']= df_subway_kor['date'].astype('str')\n",
    "df_subway_kor['date'] = pd.to_datetime(df_subway_kor['date'])\n",
    "\n",
    "# df에 df_subway_kor 합치기\n",
    "df = pd.merge(df, df_subway_kor, how='outer', on='date')\n",
    "df.columns = ['date', 'subway', 'COVID-19', 'COVID-19 KOR']\n",
    "df = df.fillna(0)\n",
    "df['COVID-19 KOR'] = df['COVID-19 KOR'].astype('Int64')\n",
    "\n",
    "# df_biz : Business day (법정공휴일, 주말 제외)\n",
    "holidays = holidays.Korea()\n",
    "datetime.date(2019, 1, 1) in holidays\n",
    "datetime.date(2020, 1, 1) in holidays\n",
    "datetime.date(2021, 1, 1) in holidays\n",
    "df_biz = df[~df['date'].isin(list(holidays.keys()))]\n",
    "df_biz = df_biz[df_biz['date'].dt.dayofweek < 5].copy()\n",
    "df_biz = df_biz.set_index('date')\n",
    "df = df.set_index('date')\n",
    "\n",
    "# df_week : 주 단위로 묶기 (평균, 합계, 합계)\n",
    "df_week = pd.DataFrame()\n",
    "df_week['subway'] = df_biz['subway'].resample('7D').mean()\n",
    "# df_week['COVID-19'] = df_biz['COVID-19'].resample('7D').sum()\n",
    "df_week['COVID-19'] = df.drop(df.index[0]).resample('7D').sum()['COVID-19'] ####\n",
    "df_week['COVID-19 KOR'] = df_biz['COVID-19 KOR'].resample('7D').sum()\n",
    "\n",
    "# df_quarter: 분기 단위로 묶기\n",
    "df_quarter = pd.DataFrame()\n",
    "df_q_sample = df_biz['2020-01-24':'2021-07-31']\n",
    "df_q_sample2 = df['2020-01-24':'2021-07-31'] ####\n",
    "\n",
    "# df_quarter['subway'] = df_q_sample['subway'].resample('1Q').sum()\n",
    "df_quarter['subway'] = df_q_sample['subway'].resample('1Q').mean() ####\n",
    "# df_quarter['COVID-19'] = df_q_sample['COVID-19'].resample('1Q').sum()\n",
    "df_quarter['COVID-19'] = df_q_sample2['COVID-19'].resample('1Q').sum() ####\n",
    "# df_quarter = df_quarter.astype('float')\n",
    "df_quarter = df_quarter.reset_index()\n",
    "df_quarter['date'] = df_quarter['date'].dt.to_period('Q')\n",
    "# df_quarter.rename(columns= {'date' : 'quarter'}, inplace=True)\n",
    "\n",
    "#data type을 float로 통일\n",
    "df = df.astype('float')\n",
    "df_biz = df_biz.astype('float')\n",
    "df_week = df_week.astype('float')\n",
    "\n",
    "df = df.reset_index()\n",
    "df_biz = df_biz.reset_index()\n",
    "df_week = df_week.reset_index()\n"
   ]
  },
  {
   "cell_type": "code",
   "execution_count": null,
   "id": "c8f78333",
   "metadata": {},
   "outputs": [],
   "source": []
  },
  {
   "cell_type": "code",
   "execution_count": null,
   "id": "9e358e4b",
   "metadata": {
    "id": "9e358e4b",
    "outputId": "aded2115-6bdc-4458-81bd-975516dbd66e"
   },
   "outputs": [],
   "source": [
    "df_week2 = slicing(df_week, '2021-01-01', '2021-07-31')\n",
    "\n",
    "df_biz1 = slicing(df_biz, '2021-01-18', '2021-01-29')\n",
    "# df_biz2 = slicing(df_biz, '2021-02-15', '2021-02-26')\n",
    "\n",
    "df_biz2 = slicing(df_biz, '2021-01-18', '2021-02-26')\n",
    "\n",
    "df_biz1\n",
    "\n",
    "df_biz3 = slicing(df_biz, '2021-02-15', '2021-02-18')\n",
    "\n",
    "df_quarter"
   ]
  },
  {
   "cell_type": "code",
   "execution_count": null,
   "id": "0bca7c4f",
   "metadata": {
    "id": "0bca7c4f",
    "outputId": "328fd571-a5b9-4912-d494-ee7ebf5e97a9",
    "scrolled": false
   },
   "outputs": [],
   "source": [
    "from plotly.subplots import make_subplots\n",
    "\n",
    "fig = make_subplots(specs=[[{'secondary_y': True}]])\n",
    "\n",
    "\n",
    "# fig.add_trace(go.Scatter(x=df_biz1['date'], y= df_biz1['subway'], name ='1월승하차량'), secondary_y=False)  \n",
    "# fig.add_trace(go.Scatter(x=df_biz1['date'], y= df_biz1['COVID-19'], name ='1월확진자'), secondary_y=True) \n",
    "\n",
    "fig.add_trace(go.Scatter(x=df_biz2['date'], y= df_biz2['subway'], name ='2월승하차량'), secondary_y=False)  \n",
    "fig.add_trace(go.Scatter(x=df_biz2['date'], y= df_biz2['COVID-19'], name ='2월확진자'), secondary_y=True) "
   ]
  },
  {
   "cell_type": "code",
   "execution_count": null,
   "id": "a2c8144d",
   "metadata": {
    "id": "a2c8144d",
    "outputId": "3e03a368-ce16-4f68-938d-e50310e3afc1"
   },
   "outputs": [],
   "source": [
    "np.corrcoef( df_biz1['subway'], df_biz1['COVID-19'])[0, 1]\n",
    "\n",
    "# 2021-02-15~2021-02-18에 대한 상관계수\n",
    "np.corrcoef( df_biz3['subway'], df_biz3['COVID-19'])[0, 1]"
   ]
  },
  {
   "cell_type": "code",
   "execution_count": null,
   "id": "b8ac811d",
   "metadata": {
    "id": "b8ac811d",
    "outputId": "04a853c3-f05c-4e11-fcb8-5e82e0bed15d",
    "scrolled": true
   },
   "outputs": [],
   "source": [
    "# 히트맵을 위한 피벗테이블 생성\n",
    "# pivot = df_biz1.pivot('date','COVID-19', 'subway')\n",
    "pivot = df_biz1.pivot('COVID-19', 'date', 'subway')\n",
    "\n",
    "fig = plt.figure(figsize=(9,6))\n",
    "fig.set_facecolor('white')\n",
    " \n",
    "plt.pcolor(pivot.values)\n",
    "plt.xticks(range(len(pivot.columns)),pivot.columns) ## x축 눈금 생성\n",
    "plt.yticks(range(len(pivot.index)), pivot.index) ## y축 눈금 생성\n",
    " \n",
    "plt.colorbar()\n",
    "plt.show()\n",
    "\n",
    "pivot"
   ]
  },
  {
   "cell_type": "code",
   "execution_count": null,
   "id": "b0e03456",
   "metadata": {
    "id": "b0e03456",
    "outputId": "140a0a3b-a091-49e1-85fc-157d07e7b15f",
    "scrolled": true
   },
   "outputs": [],
   "source": [
    "plt.figure(figsize=(9,6))\n",
    "\n",
    "plt.plot('date',\n",
    "         \n",
    "         'COVID-19',\n",
    "\n",
    "         data = df_week2,\n",
    "\n",
    "         linestyle='solid',\n",
    "\n",
    "         marker='o',\n",
    "\n",
    "         markersize=0,\n",
    "\n",
    "         color='blue',\n",
    "\n",
    "         alpha=0.5)\n",
    "\n",
    "plt.title(\"Plot of 'df_biz1' by matplotlib\", fontsize=20)\n",
    "\n",
    "plt.xlabel('date', fontsize=14)\n",
    "\n",
    "plt.ylabel('subway', fontsize=14)\n",
    "\n",
    "plt.show()"
   ]
  },
  {
   "cell_type": "code",
   "execution_count": null,
   "id": "c78bf629",
   "metadata": {
    "id": "c78bf629"
   },
   "outputs": [],
   "source": []
  },
  {
   "cell_type": "code",
   "execution_count": null,
   "id": "f7da8f8b",
   "metadata": {
    "scrolled": true
   },
   "outputs": [],
   "source": [
    "df_quarter"
   ]
  },
  {
   "cell_type": "code",
   "execution_count": null,
   "id": "d113135f",
   "metadata": {},
   "outputs": [],
   "source": [
    "df_quarter.info()"
   ]
  },
  {
   "cell_type": "code",
   "execution_count": null,
   "id": "3440b3af",
   "metadata": {},
   "outputs": [],
   "source": [
    "df.info()"
   ]
  },
  {
   "cell_type": "code",
   "execution_count": null,
   "id": "876d0a72",
   "metadata": {},
   "outputs": [],
   "source": [
    "plt.figure(figsize=(9,6))\n",
    "\n",
    "plt.plot('date',\n",
    "         \n",
    "         'COVID-19',\n",
    "\n",
    "         data=df_quarter,\n",
    "\n",
    "         linestyle='solid',\n",
    "\n",
    "         marker='o',\n",
    "\n",
    "         markersize=0,\n",
    "\n",
    "         color='blue',\n",
    "\n",
    "         alpha=0.5)\n",
    "\n",
    "plt.title(\"Plot of 'df_biz1' by matplotlib\", fontsize=20)\n",
    "\n",
    "plt.xlabel('date', fontsize=14)\n",
    "\n",
    "plt.ylabel('subway', fontsize=14)\n",
    "\n",
    "plt.show()"
   ]
  },
  {
   "cell_type": "code",
   "execution_count": null,
   "id": "8ce913f9",
   "metadata": {},
   "outputs": [],
   "source": []
  },
  {
   "cell_type": "code",
   "execution_count": null,
   "id": "da2bff15",
   "metadata": {},
   "outputs": [],
   "source": [
    "df_quarter.to_csv(\"filename.csv\")"
   ]
  },
  {
   "cell_type": "code",
   "execution_count": null,
   "id": "832253c5",
   "metadata": {},
   "outputs": [],
   "source": [
    "df_quarter1 = pd.read_csv(\"filename.csv\")"
   ]
  },
  {
   "cell_type": "code",
   "execution_count": null,
   "id": "d68a4d74",
   "metadata": {},
   "outputs": [],
   "source": [
    "df_quarter1"
   ]
  },
  {
   "cell_type": "code",
   "execution_count": null,
   "id": "0944c155",
   "metadata": {},
   "outputs": [],
   "source": [
    "df_quarter1.info()"
   ]
  },
  {
   "cell_type": "code",
   "execution_count": null,
   "id": "aeedd708",
   "metadata": {},
   "outputs": [],
   "source": [
    "plt.figure(figsize=(9,6))\n",
    "\n",
    "plt.plot('date',\n",
    "         \n",
    "         'COVID-19',\n",
    "\n",
    "         data=df_quarter1,\n",
    "\n",
    "         linestyle='solid',\n",
    "\n",
    "         marker='o',\n",
    "\n",
    "         markersize=0,\n",
    "\n",
    "         color='blue',\n",
    "\n",
    "         alpha=0.5)\n",
    "\n",
    "plt.title(\"Plot of 'df_biz1' by matplotlib\", fontsize=20)\n",
    "\n",
    "plt.xlabel('date', fontsize=14)\n",
    "\n",
    "plt.ylabel('subway', fontsize=14)\n",
    "\n",
    "plt.show()"
   ]
  },
  {
   "cell_type": "code",
   "execution_count": null,
   "id": "c1e52781",
   "metadata": {},
   "outputs": [],
   "source": []
  }
 ],
 "metadata": {
  "colab": {
   "collapsed_sections": [],
   "name": "002_TEST003.ipynb",
   "provenance": []
  },
  "interpreter": {
   "hash": "b3ba2566441a7c06988d0923437866b63cedc61552a5af99d1f4fb67d367b25f"
  },
  "kernelspec": {
   "display_name": "Python 3",
   "language": "python",
   "name": "python3"
  },
  "language_info": {
   "codemirror_mode": {
    "name": "ipython",
    "version": 3
   },
   "file_extension": ".py",
   "mimetype": "text/x-python",
   "name": "python",
   "nbconvert_exporter": "python",
   "pygments_lexer": "ipython3",
   "version": "3.8.8"
  }
 },
 "nbformat": 4,
 "nbformat_minor": 5
}
